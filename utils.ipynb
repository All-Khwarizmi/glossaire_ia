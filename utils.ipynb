{
 "cells": [
  {
   "cell_type": "code",
   "execution_count": 1,
   "id": "9a55ee87-6eec-4f8e-918d-c7952107f1fb",
   "metadata": {},
   "outputs": [],
   "source": [
    "from utils import test_module"
   ]
  },
  {
   "cell_type": "code",
   "execution_count": 2,
   "id": "368f28a0-6559-425e-a790-aeda228ca149",
   "metadata": {},
   "outputs": [
    {
     "name": "stdout",
     "output_type": "stream",
     "text": [
      "foooook\n"
     ]
    }
   ],
   "source": [
    "test_module(\"foooo\")"
   ]
  },
  {
   "cell_type": "code",
   "execution_count": 1,
   "id": "6cdd5d1a-19c7-4dd0-819a-36718ef2920e",
   "metadata": {},
   "outputs": [],
   "source": [
    "# |exporti\n",
    "\n",
    "import streamlit as st"
   ]
  },
  {
   "cell_type": "code",
   "execution_count": 2,
   "id": "438f0118-5be6-46dd-a98a-23c19b6b201a",
   "metadata": {},
   "outputs": [
    {
     "name": "stderr",
     "output_type": "stream",
     "text": [
      "2024-01-16 10:17:32.034 \n",
      "  \u001b[33m\u001b[1mWarning:\u001b[0m to view this Streamlit app on a browser, run it with the following\n",
      "  command:\n",
      "\n",
      "    streamlit run /Users/jasonsuarez/anaconda3/envs/pydata-book/lib/python3.10/site-packages/ipykernel_launcher.py [ARGUMENTS]\n"
     ]
    },
    {
     "data": {
      "text/plain": [
       "DeltaGenerator()"
      ]
     },
     "execution_count": 2,
     "metadata": {},
     "output_type": "execute_result"
    }
   ],
   "source": [
    "st.title(\"Second Page\")"
   ]
  },
  {
   "cell_type": "code",
   "execution_count": 4,
   "id": "3b0f61ef-5f72-40e2-bc7a-202fe7a3a27f",
   "metadata": {},
   "outputs": [],
   "source": [
    "from nbdev.export import nb_export\n",
    "nb_export(\"utils.ipynb\", lib_path=\"./\", name=\"second_page\")"
   ]
  },
  {
   "cell_type": "code",
   "execution_count": null,
   "id": "a8ed5c30-7da5-410e-bca2-6596e07c79ad",
   "metadata": {},
   "outputs": [],
   "source": []
  }
 ],
 "metadata": {
  "kernelspec": {
   "display_name": "Python 3 (ipykernel)",
   "language": "python",
   "name": "python3"
  },
  "language_info": {
   "codemirror_mode": {
    "name": "ipython",
    "version": 3
   },
   "file_extension": ".py",
   "mimetype": "text/x-python",
   "name": "python",
   "nbconvert_exporter": "python",
   "pygments_lexer": "ipython3",
   "version": "3.10.13"
  }
 },
 "nbformat": 4,
 "nbformat_minor": 5
}
