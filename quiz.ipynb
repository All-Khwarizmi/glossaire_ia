{
 "cells": [
  {
   "cell_type": "code",
   "execution_count": null,
   "id": "9a55ee87-6eec-4f8e-918d-c7952107f1fb",
   "metadata": {},
   "outputs": [],
   "source": []
  },
  {
   "cell_type": "code",
   "execution_count": 13,
   "id": "6cdd5d1a-19c7-4dd0-819a-36718ef2920e",
   "metadata": {},
   "outputs": [],
   "source": [
    "# |exporti\n",
    "\n",
    "import streamlit as st"
   ]
  },
  {
   "cell_type": "code",
   "execution_count": 14,
   "id": "438f0118-5be6-46dd-a98a-23c19b6b201a",
   "metadata": {},
   "outputs": [
    {
     "data": {
      "text/plain": [
       "DeltaGenerator()"
      ]
     },
     "execution_count": 14,
     "metadata": {},
     "output_type": "execute_result"
    }
   ],
   "source": [
    "# |exporti\n",
    "st.title(\"Second Page\")"
   ]
  },
  {
   "cell_type": "code",
   "execution_count": 18,
   "id": "3b0f61ef-5f72-40e2-bc7a-202fe7a3a27f",
   "metadata": {},
   "outputs": [],
   "source": [
    "from nbdev.export import nb_export\n",
    "import os\n",
    "path = 'pages/quiz.py'\n",
    "isFile = os.path.isfile(path)\n",
    "if isFile:\n",
    "    os.remove(path)\n",
    "nb_export(\"quiz.ipynb\", lib_path=\"./pages\", name=\"quiz\")"
   ]
  },
  {
   "cell_type": "code",
   "execution_count": null,
   "id": "a8ed5c30-7da5-410e-bca2-6596e07c79ad",
   "metadata": {},
   "outputs": [],
   "source": []
  }
 ],
 "metadata": {
  "kernelspec": {
   "display_name": "Python 3 (ipykernel)",
   "language": "python",
   "name": "python3"
  },
  "language_info": {
   "codemirror_mode": {
    "name": "ipython",
    "version": 3
   },
   "file_extension": ".py",
   "mimetype": "text/x-python",
   "name": "python",
   "nbconvert_exporter": "python",
   "pygments_lexer": "ipython3",
   "version": "3.10.13"
  }
 },
 "nbformat": 4,
 "nbformat_minor": 5
}
