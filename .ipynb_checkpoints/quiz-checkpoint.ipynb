{
 "cells": [
  {
   "cell_type": "code",
   "execution_count": 304,
   "id": "9a55ee87-6eec-4f8e-918d-c7952107f1fb",
   "metadata": {},
   "outputs": [
    {
     "name": "stdout",
     "output_type": "stream",
     "text": [
      "Requirement already satisfied: streamlit_book in /Users/jasonsuarez/anaconda3/envs/pydata-book/lib/python3.10/site-packages (0.7.5)\n",
      "Requirement already satisfied: streamlit in /Users/jasonsuarez/anaconda3/envs/pydata-book/lib/python3.10/site-packages (from streamlit_book) (1.30.0)\n",
      "Requirement already satisfied: streamlit-option-menu in /Users/jasonsuarez/anaconda3/envs/pydata-book/lib/python3.10/site-packages (from streamlit_book) (0.3.6)\n",
      "Requirement already satisfied: altair<6,>=4.0 in /Users/jasonsuarez/anaconda3/envs/pydata-book/lib/python3.10/site-packages (from streamlit->streamlit_book) (5.2.0)\n",
      "Requirement already satisfied: blinker<2,>=1.0.0 in /Users/jasonsuarez/anaconda3/envs/pydata-book/lib/python3.10/site-packages (from streamlit->streamlit_book) (1.7.0)\n",
      "Requirement already satisfied: cachetools<6,>=4.0 in /Users/jasonsuarez/anaconda3/envs/pydata-book/lib/python3.10/site-packages (from streamlit->streamlit_book) (5.3.2)\n",
      "Requirement already satisfied: click<9,>=7.0 in /Users/jasonsuarez/anaconda3/envs/pydata-book/lib/python3.10/site-packages (from streamlit->streamlit_book) (8.1.7)\n",
      "Requirement already satisfied: importlib-metadata<8,>=1.4 in /Users/jasonsuarez/anaconda3/envs/pydata-book/lib/python3.10/site-packages (from streamlit->streamlit_book) (7.0.1)\n",
      "Requirement already satisfied: numpy<2,>=1.19.3 in /Users/jasonsuarez/anaconda3/envs/pydata-book/lib/python3.10/site-packages (from streamlit->streamlit_book) (1.26.3)\n",
      "Requirement already satisfied: packaging<24,>=16.8 in /Users/jasonsuarez/anaconda3/envs/pydata-book/lib/python3.10/site-packages (from streamlit->streamlit_book) (23.2)\n",
      "Requirement already satisfied: pandas<3,>=1.3.0 in /Users/jasonsuarez/anaconda3/envs/pydata-book/lib/python3.10/site-packages (from streamlit->streamlit_book) (2.1.4)\n",
      "Requirement already satisfied: pillow<11,>=7.1.0 in /Users/jasonsuarez/anaconda3/envs/pydata-book/lib/python3.10/site-packages (from streamlit->streamlit_book) (10.2.0)\n",
      "Requirement already satisfied: protobuf<5,>=3.20 in /Users/jasonsuarez/anaconda3/envs/pydata-book/lib/python3.10/site-packages (from streamlit->streamlit_book) (4.24.4)\n",
      "Requirement already satisfied: pyarrow>=6.0 in /Users/jasonsuarez/anaconda3/envs/pydata-book/lib/python3.10/site-packages (from streamlit->streamlit_book) (14.0.2)\n",
      "Requirement already satisfied: python-dateutil<3,>=2.7.3 in /Users/jasonsuarez/anaconda3/envs/pydata-book/lib/python3.10/site-packages (from streamlit->streamlit_book) (2.8.2)\n",
      "Requirement already satisfied: requests<3,>=2.27 in /Users/jasonsuarez/anaconda3/envs/pydata-book/lib/python3.10/site-packages (from streamlit->streamlit_book) (2.31.0)\n",
      "Requirement already satisfied: rich<14,>=10.14.0 in /Users/jasonsuarez/anaconda3/envs/pydata-book/lib/python3.10/site-packages (from streamlit->streamlit_book) (13.7.0)\n",
      "Requirement already satisfied: tenacity<9,>=8.1.0 in /Users/jasonsuarez/anaconda3/envs/pydata-book/lib/python3.10/site-packages (from streamlit->streamlit_book) (8.2.3)\n",
      "Requirement already satisfied: toml<2,>=0.10.1 in /Users/jasonsuarez/anaconda3/envs/pydata-book/lib/python3.10/site-packages (from streamlit->streamlit_book) (0.10.2)\n",
      "Requirement already satisfied: typing-extensions<5,>=4.3.0 in /Users/jasonsuarez/anaconda3/envs/pydata-book/lib/python3.10/site-packages (from streamlit->streamlit_book) (4.9.0)\n",
      "Requirement already satisfied: tzlocal<6,>=1.1 in /Users/jasonsuarez/anaconda3/envs/pydata-book/lib/python3.10/site-packages (from streamlit->streamlit_book) (5.2)\n",
      "Requirement already satisfied: validators<1,>=0.2 in /Users/jasonsuarez/anaconda3/envs/pydata-book/lib/python3.10/site-packages (from streamlit->streamlit_book) (0.22.0)\n",
      "Requirement already satisfied: gitpython!=3.1.19,<4,>=3.0.7 in /Users/jasonsuarez/anaconda3/envs/pydata-book/lib/python3.10/site-packages (from streamlit->streamlit_book) (3.1.41)\n",
      "Requirement already satisfied: pydeck<1,>=0.8.0b4 in /Users/jasonsuarez/anaconda3/envs/pydata-book/lib/python3.10/site-packages (from streamlit->streamlit_book) (0.8.0b4)\n",
      "Requirement already satisfied: tornado<7,>=6.0.3 in /Users/jasonsuarez/anaconda3/envs/pydata-book/lib/python3.10/site-packages (from streamlit->streamlit_book) (6.3.3)\n",
      "Requirement already satisfied: jinja2 in /Users/jasonsuarez/anaconda3/envs/pydata-book/lib/python3.10/site-packages (from altair<6,>=4.0->streamlit->streamlit_book) (3.1.3)\n",
      "Requirement already satisfied: jsonschema>=3.0 in /Users/jasonsuarez/anaconda3/envs/pydata-book/lib/python3.10/site-packages (from altair<6,>=4.0->streamlit->streamlit_book) (4.20.0)\n",
      "Requirement already satisfied: toolz in /Users/jasonsuarez/anaconda3/envs/pydata-book/lib/python3.10/site-packages (from altair<6,>=4.0->streamlit->streamlit_book) (0.12.0)\n",
      "Requirement already satisfied: gitdb<5,>=4.0.1 in /Users/jasonsuarez/anaconda3/envs/pydata-book/lib/python3.10/site-packages (from gitpython!=3.1.19,<4,>=3.0.7->streamlit->streamlit_book) (4.0.11)\n",
      "Requirement already satisfied: zipp>=0.5 in /Users/jasonsuarez/anaconda3/envs/pydata-book/lib/python3.10/site-packages (from importlib-metadata<8,>=1.4->streamlit->streamlit_book) (3.17.0)\n",
      "Requirement already satisfied: pytz>=2020.1 in /Users/jasonsuarez/anaconda3/envs/pydata-book/lib/python3.10/site-packages (from pandas<3,>=1.3.0->streamlit->streamlit_book) (2023.3.post1)\n",
      "Requirement already satisfied: tzdata>=2022.1 in /Users/jasonsuarez/anaconda3/envs/pydata-book/lib/python3.10/site-packages (from pandas<3,>=1.3.0->streamlit->streamlit_book) (2023.4)\n",
      "Requirement already satisfied: six>=1.5 in /Users/jasonsuarez/anaconda3/envs/pydata-book/lib/python3.10/site-packages (from python-dateutil<3,>=2.7.3->streamlit->streamlit_book) (1.16.0)\n",
      "Requirement already satisfied: charset-normalizer<4,>=2 in /Users/jasonsuarez/anaconda3/envs/pydata-book/lib/python3.10/site-packages (from requests<3,>=2.27->streamlit->streamlit_book) (3.3.2)\n",
      "Requirement already satisfied: idna<4,>=2.5 in /Users/jasonsuarez/anaconda3/envs/pydata-book/lib/python3.10/site-packages (from requests<3,>=2.27->streamlit->streamlit_book) (3.6)\n",
      "Requirement already satisfied: urllib3<3,>=1.21.1 in /Users/jasonsuarez/anaconda3/envs/pydata-book/lib/python3.10/site-packages (from requests<3,>=2.27->streamlit->streamlit_book) (2.1.0)\n",
      "Requirement already satisfied: certifi>=2017.4.17 in /Users/jasonsuarez/anaconda3/envs/pydata-book/lib/python3.10/site-packages (from requests<3,>=2.27->streamlit->streamlit_book) (2023.11.17)\n",
      "Requirement already satisfied: markdown-it-py>=2.2.0 in /Users/jasonsuarez/anaconda3/envs/pydata-book/lib/python3.10/site-packages (from rich<14,>=10.14.0->streamlit->streamlit_book) (3.0.0)\n",
      "Requirement already satisfied: pygments<3.0.0,>=2.13.0 in /Users/jasonsuarez/anaconda3/envs/pydata-book/lib/python3.10/site-packages (from rich<14,>=10.14.0->streamlit->streamlit_book) (2.17.2)\n",
      "Requirement already satisfied: smmap<6,>=3.0.1 in /Users/jasonsuarez/anaconda3/envs/pydata-book/lib/python3.10/site-packages (from gitdb<5,>=4.0.1->gitpython!=3.1.19,<4,>=3.0.7->streamlit->streamlit_book) (5.0.0)\n",
      "Requirement already satisfied: MarkupSafe>=2.0 in /Users/jasonsuarez/anaconda3/envs/pydata-book/lib/python3.10/site-packages (from jinja2->altair<6,>=4.0->streamlit->streamlit_book) (2.1.3)\n",
      "Requirement already satisfied: attrs>=22.2.0 in /Users/jasonsuarez/anaconda3/envs/pydata-book/lib/python3.10/site-packages (from jsonschema>=3.0->altair<6,>=4.0->streamlit->streamlit_book) (23.2.0)\n",
      "Requirement already satisfied: jsonschema-specifications>=2023.03.6 in /Users/jasonsuarez/anaconda3/envs/pydata-book/lib/python3.10/site-packages (from jsonschema>=3.0->altair<6,>=4.0->streamlit->streamlit_book) (2023.12.1)\n",
      "Requirement already satisfied: referencing>=0.28.4 in /Users/jasonsuarez/anaconda3/envs/pydata-book/lib/python3.10/site-packages (from jsonschema>=3.0->altair<6,>=4.0->streamlit->streamlit_book) (0.32.1)\n",
      "Requirement already satisfied: rpds-py>=0.7.1 in /Users/jasonsuarez/anaconda3/envs/pydata-book/lib/python3.10/site-packages (from jsonschema>=3.0->altair<6,>=4.0->streamlit->streamlit_book) (0.16.2)\n",
      "Requirement already satisfied: mdurl~=0.1 in /Users/jasonsuarez/anaconda3/envs/pydata-book/lib/python3.10/site-packages (from markdown-it-py>=2.2.0->rich<14,>=10.14.0->streamlit->streamlit_book) (0.1.2)\n"
     ]
    }
   ],
   "source": [
    "!pip install streamlit_book"
   ]
  },
  {
   "cell_type": "code",
   "execution_count": 305,
   "id": "6cdd5d1a-19c7-4dd0-819a-36718ef2920e",
   "metadata": {},
   "outputs": [],
   "source": [
    "# |exporti\n",
    "\n",
    "import streamlit as st\n",
    "import streamlit_book as stb"
   ]
  },
  {
   "cell_type": "code",
   "execution_count": 306,
   "id": "438f0118-5be6-46dd-a98a-23c19b6b201a",
   "metadata": {},
   "outputs": [
    {
     "data": {
      "text/plain": [
       "DeltaGenerator(_form_data=FormData(form_id='my_form'))"
      ]
     },
     "execution_count": 306,
     "metadata": {},
     "output_type": "execute_result"
    }
   ],
   "source": [
    "# |exporti\n",
    "st.title(\"Second Page\")"
   ]
  },
  {
   "cell_type": "code",
   "execution_count": 307,
   "id": "f36af1a6-a267-41f5-bb74-5049c7302e5a",
   "metadata": {},
   "outputs": [
    {
     "name": "stderr",
     "output_type": "stream",
     "text": [
      "2024-01-17 18:06:45.702 No runtime found, using MemoryCacheStorageManager\n"
     ]
    },
    {
     "data": {
      "text/plain": [
       "DeltaGenerator(_form_data=FormData(form_id='my_form'))"
      ]
     },
     "execution_count": 307,
     "metadata": {},
     "output_type": "execute_result"
    }
   ],
   "source": [
    "# |exporti\n",
    "# Create the SQL connection to pets_db as specified in your secrets file.\n",
    "from sqlalchemy import text\n",
    "conn = st.connection('words_db', type='sql')\n",
    "\n",
    "# Insert some data with conn.session.\n",
    "   \n",
    "\n",
    "# Query and display the data you inserted\n",
    "words = conn.query('select * from words')\n",
    "st.dataframe(words)\n"
   ]
  },
  {
   "cell_type": "code",
   "execution_count": 308,
   "id": "e1b547ee-f2c1-46dd-bb7f-71937b03bf0e",
   "metadata": {},
   "outputs": [
    {
     "data": {
      "text/html": [
       "<div>\n",
       "<style scoped>\n",
       "    .dataframe tbody tr th:only-of-type {\n",
       "        vertical-align: middle;\n",
       "    }\n",
       "\n",
       "    .dataframe tbody tr th {\n",
       "        vertical-align: top;\n",
       "    }\n",
       "\n",
       "    .dataframe thead th {\n",
       "        text-align: right;\n",
       "    }\n",
       "</style>\n",
       "<table border=\"1\" class=\"dataframe\">\n",
       "  <thead>\n",
       "    <tr style=\"text-align: right;\">\n",
       "      <th></th>\n",
       "      <th>entry</th>\n",
       "      <th>name</th>\n",
       "      <th>TEXT</th>\n",
       "      <th>definition</th>\n",
       "      <th>url</th>\n",
       "    </tr>\n",
       "  </thead>\n",
       "  <tbody>\n",
       "    <tr>\n",
       "      <th>count</th>\n",
       "      <td>584</td>\n",
       "      <td>584</td>\n",
       "      <td>0</td>\n",
       "      <td>584</td>\n",
       "      <td>584</td>\n",
       "    </tr>\n",
       "    <tr>\n",
       "      <th>unique</th>\n",
       "      <td>18</td>\n",
       "      <td>73</td>\n",
       "      <td>0</td>\n",
       "      <td>73</td>\n",
       "      <td>73</td>\n",
       "    </tr>\n",
       "    <tr>\n",
       "      <th>top</th>\n",
       "      <td>a</td>\n",
       "      <td>Algorithme</td>\n",
       "      <td>NaN</td>\n",
       "      <td>Un algorithme est la description d'une suite d...</td>\n",
       "      <td>/fr/definition/algorithme</td>\n",
       "    </tr>\n",
       "    <tr>\n",
       "      <th>freq</th>\n",
       "      <td>144</td>\n",
       "      <td>8</td>\n",
       "      <td>NaN</td>\n",
       "      <td>8</td>\n",
       "      <td>8</td>\n",
       "    </tr>\n",
       "  </tbody>\n",
       "</table>\n",
       "</div>"
      ],
      "text/plain": [
       "       entry         name TEXT  \\\n",
       "count    584          584    0   \n",
       "unique    18           73    0   \n",
       "top        a  Algorithme   NaN   \n",
       "freq     144            8  NaN   \n",
       "\n",
       "                                               definition  \\\n",
       "count                                                 584   \n",
       "unique                                                 73   \n",
       "top     Un algorithme est la description d'une suite d...   \n",
       "freq                                                    8   \n",
       "\n",
       "                              url  \n",
       "count                         584  \n",
       "unique                         73  \n",
       "top     /fr/definition/algorithme  \n",
       "freq                            8  "
      ]
     },
     "execution_count": 308,
     "metadata": {},
     "output_type": "execute_result"
    }
   ],
   "source": [
    "words.describe()"
   ]
  },
  {
   "cell_type": "code",
   "execution_count": 309,
   "id": "4ed11d38-dec9-4c83-af11-26a2a429a7b1",
   "metadata": {},
   "outputs": [
    {
     "data": {
      "text/html": [
       "<div>\n",
       "<style scoped>\n",
       "    .dataframe tbody tr th:only-of-type {\n",
       "        vertical-align: middle;\n",
       "    }\n",
       "\n",
       "    .dataframe tbody tr th {\n",
       "        vertical-align: top;\n",
       "    }\n",
       "\n",
       "    .dataframe thead th {\n",
       "        text-align: right;\n",
       "    }\n",
       "</style>\n",
       "<table border=\"1\" class=\"dataframe\">\n",
       "  <thead>\n",
       "    <tr style=\"text-align: right;\">\n",
       "      <th></th>\n",
       "      <th>entry</th>\n",
       "      <th>name</th>\n",
       "      <th>TEXT</th>\n",
       "      <th>definition</th>\n",
       "      <th>url</th>\n",
       "    </tr>\n",
       "  </thead>\n",
       "  <tbody>\n",
       "    <tr>\n",
       "      <th>42</th>\n",
       "      <td>e</td>\n",
       "      <td>Extraction de caractéristiques (feature extrac...</td>\n",
       "      <td>None</td>\n",
       "      <td>Dans le domaine de l’intelligence artificielle...</td>\n",
       "      <td>/fr/definition/extraction-de-caracteristiques-...</td>\n",
       "    </tr>\n",
       "  </tbody>\n",
       "</table>\n",
       "</div>"
      ],
      "text/plain": [
       "   entry                                               name  TEXT  \\\n",
       "42     e  Extraction de caractéristiques (feature extrac...  None   \n",
       "\n",
       "                                           definition  \\\n",
       "42  Dans le domaine de l’intelligence artificielle...   \n",
       "\n",
       "                                                  url  \n",
       "42  /fr/definition/extraction-de-caracteristiques-...  "
      ]
     },
     "execution_count": 309,
     "metadata": {},
     "output_type": "execute_result"
    }
   ],
   "source": [
    "# |exporti\n",
    "word = words.sample() \n",
    "word"
   ]
  },
  {
   "cell_type": "code",
   "execution_count": 310,
   "id": "fee1cf00-2826-457f-b08a-c34511bca533",
   "metadata": {},
   "outputs": [
    {
     "name": "stderr",
     "output_type": "stream",
     "text": [
      "2024-01-17 18:06:45.738 No runtime found, using MemoryCacheStorageManager\n"
     ]
    }
   ],
   "source": [
    "# |exporti\n",
    "import random\n",
    "@st.cache_data\n",
    "def question_creator(words, bool):\n",
    "    a_word = words.sample()\n",
    "    b_word = words.sample()\n",
    "    c_word = words.sample()\n",
    "    d_word = words.sample()\n",
    "    question = f\"Que'est-ce que \\\"{a_word['name'].values[0]}\\\"?\"\n",
    "    answers  = []\n",
    "    a_rep = a_word[\"definition\"]\n",
    "    answers.append(a_rep.values[0])\n",
    "    b_rep = b_word[\"definition\"]\n",
    "    answers.append(b_rep.values[0])\n",
    "    c_rep = c_word[\"definition\"]\n",
    "    answers.append(c_rep.values[0])\n",
    "    d_rep = d_word[\"definition\"]\n",
    "    answers.append(d_rep.values[0])\n",
    "    random.shuffle(list(answers))\n",
    "    return question, answers, a_rep.values[0]\n",
    "    "
   ]
  },
  {
   "cell_type": "code",
   "execution_count": 311,
   "id": "96de9746-853d-44a7-a339-a96da3a9ac69",
   "metadata": {},
   "outputs": [
    {
     "name": "stdout",
     "output_type": "stream",
     "text": [
      "Q: Que'est-ce que \"Estimation bayésienne\"? \n",
      "['L’estimation ou inférence bayésienne s’appuie sur un théorème énoncé par le mathématicien Thomas Bayes. Ce théorème donne une méthode pour calculer la probabilité d’un phénomène grâce à la connaissance de certaines informations. L’estimation bayésienne est donc la méthode qui s’appuie sur ce…', 'Dans le domaine de l’intelligence artificielle, la fonction de perte ou de coût est la quantification de l’écart entre les prévisions du modèle et les observations réelles du jeu de donnée utilisé pendant l’entraînement.\\r\\n\\r\\nLa phase d’entraînement vise à trouver les paramètres du modèle qui…', \"Variation des données utilisées à l'étape de production par rapport aux données qui ont été utilisées pour tester et valider le modèle avant son déploiement. Plusieurs facteurs peuvent entraîner cette dérive\\xa0: des modifications de processus en amont, des problèmes de qualité des données, de…\", 'Les attaques par inversion visent à reconstruire les données ayant servi pour l’apprentissage du système. En pratique, les attaques par inversion sont menées en soumettant un grand nombre d’entrées au système d’IA et en observant les sorties produites. On utilise, de façon équivalente, le terme d…']\n",
      "A: L’estimation ou inférence bayésienne s’appuie sur un théorème énoncé par le mathématicien Thomas Bayes. Ce théorème donne une méthode pour calculer la probabilité d’un phénomène grâce à la connaissance de certaines informations. L’estimation bayésienne est donc la méthode qui s’appuie sur ce… \n"
     ]
    },
    {
     "data": {
      "text/plain": [
       "\"La rep correcte est L’estimation ou inférence bayésienne s’appuie sur un théorème énoncé par le mathématicien Thomas Bayes. Ce théorème donne une méthode pour calculer la probabilité d’un phénomène grâce à la connaissance de certaines informations. L’estimation bayésienne est donc la méthode qui s’appuie sur ce… à l'index 0  \""
      ]
     },
     "execution_count": 311,
     "metadata": {},
     "output_type": "execute_result"
    }
   ],
   "source": [
    "# |exporti\n",
    "refresh = False\n",
    "\n",
    "question, answers, true_answer = question_creator(words, refresh)\n",
    "type(answers)\n",
    "\n",
    "print(f\"Q: {question} \")\n",
    "print(answers)\n",
    "print(f\"A: {true_answer} \")\n",
    "\n",
    "f\"La rep correcte est {true_answer} à l\\'index {answers.index(true_answer)}  \"\n"
   ]
  },
  {
   "cell_type": "code",
   "execution_count": 312,
   "id": "e959b3ce-a2c5-4ca3-8626-54d287843b1f",
   "metadata": {},
   "outputs": [
    {
     "data": {
      "text/plain": [
       "False"
      ]
     },
     "execution_count": 312,
     "metadata": {},
     "output_type": "execute_result"
    }
   ],
   "source": [
    "# |exporti\n",
    "def inverse_bool(refresh):\n",
    "    refresh = not refresh\n",
    "stb.single_choice(question,\n",
    "                  answers,\n",
    "                  answers.index(true_answer))\n",
    "st.button(\"Prochaine question\", on_click=inverse_bool(refresh))\n",
    "refresh"
   ]
  },
  {
   "cell_type": "code",
   "execution_count": 313,
   "id": "38673074-696a-47ce-8854-70020b874632",
   "metadata": {},
   "outputs": [],
   "source": [
    "# |exporti\n"
   ]
  },
  {
   "cell_type": "code",
   "execution_count": 314,
   "id": "3b0f61ef-5f72-40e2-bc7a-202fe7a3a27f",
   "metadata": {},
   "outputs": [],
   "source": [
    "from nbdev.export import nb_export\n",
    "import os\n",
    "path = 'pages/quiz.py'\n",
    "isFile = os.path.isfile(path)\n",
    "if isFile:\n",
    "    os.remove(path)\n",
    "nb_export(\"quiz.ipynb\", lib_path=\"./pages\", name=\"quiz\")"
   ]
  },
  {
   "cell_type": "code",
   "execution_count": null,
   "id": "a8ed5c30-7da5-410e-bca2-6596e07c79ad",
   "metadata": {},
   "outputs": [],
   "source": []
  },
  {
   "cell_type": "code",
   "execution_count": null,
   "id": "18ffeeab-a47f-4e4d-b323-ad4368e08686",
   "metadata": {},
   "outputs": [],
   "source": []
  },
  {
   "cell_type": "code",
   "execution_count": null,
   "id": "5f68dac9-f09e-4f2b-a932-a2dd40a09387",
   "metadata": {},
   "outputs": [],
   "source": []
  }
 ],
 "metadata": {
  "kernelspec": {
   "display_name": "Python 3 (ipykernel)",
   "language": "python",
   "name": "python3"
  },
  "language_info": {
   "codemirror_mode": {
    "name": "ipython",
    "version": 3
   },
   "file_extension": ".py",
   "mimetype": "text/x-python",
   "name": "python",
   "nbconvert_exporter": "python",
   "pygments_lexer": "ipython3",
   "version": "3.10.13"
  }
 },
 "nbformat": 4,
 "nbformat_minor": 5
}
