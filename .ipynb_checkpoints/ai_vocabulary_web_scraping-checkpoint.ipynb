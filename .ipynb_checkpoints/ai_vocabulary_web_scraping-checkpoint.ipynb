{
 "cells": [
  {
   "cell_type": "markdown",
   "id": "535f48ce-71bc-46f8-8195-589c8fd6a609",
   "metadata": {},
   "source": [
    "This cell uses the !pip install command to install necessary Python libraries for the project. Libraries like beautifulsoup4, requests, nbdev, streamlit, streamlit_jupyter, pandas, and lxml are installed. These libraries are essential for web scraping (beautifulsoup4, requests, lxml), data manipulation (pandas), and creating an interactive web application (streamlit, streamlit_jupyter).\n"
   ]
  },
  {
   "cell_type": "code",
   "execution_count": 295,
   "id": "2fc61fc3-7f62-44d7-a0af-edc276658e28",
   "metadata": {},
   "outputs": [
    {
     "name": "stdout",
     "output_type": "stream",
     "text": [
      "Requirement already satisfied: beautifulsoup4 in /Users/jasonsuarez/anaconda3/envs/pydata-book/lib/python3.10/site-packages (4.12.2)\n",
      "Requirement already satisfied: requests in /Users/jasonsuarez/anaconda3/envs/pydata-book/lib/python3.10/site-packages (2.31.0)\n",
      "Requirement already satisfied: nbdev in /Users/jasonsuarez/anaconda3/envs/pydata-book/lib/python3.10/site-packages (2.3.13)\n",
      "Requirement already satisfied: streamlit in /Users/jasonsuarez/anaconda3/envs/pydata-book/lib/python3.10/site-packages (1.30.0)\n",
      "Requirement already satisfied: streamlit_jupyter in /Users/jasonsuarez/anaconda3/envs/pydata-book/lib/python3.10/site-packages (0.2.1)\n",
      "Requirement already satisfied: pandas in /Users/jasonsuarez/anaconda3/envs/pydata-book/lib/python3.10/site-packages (2.1.4)\n",
      "Requirement already satisfied: lxml in /Users/jasonsuarez/anaconda3/envs/pydata-book/lib/python3.10/site-packages (5.1.0)\n",
      "Requirement already satisfied: soupsieve>1.2 in /Users/jasonsuarez/anaconda3/envs/pydata-book/lib/python3.10/site-packages (from beautifulsoup4) (2.5)\n",
      "Requirement already satisfied: charset-normalizer<4,>=2 in /Users/jasonsuarez/anaconda3/envs/pydata-book/lib/python3.10/site-packages (from requests) (3.3.2)\n",
      "Requirement already satisfied: idna<4,>=2.5 in /Users/jasonsuarez/anaconda3/envs/pydata-book/lib/python3.10/site-packages (from requests) (3.6)\n",
      "Requirement already satisfied: urllib3<3,>=1.21.1 in /Users/jasonsuarez/anaconda3/envs/pydata-book/lib/python3.10/site-packages (from requests) (2.1.0)\n",
      "Requirement already satisfied: certifi>=2017.4.17 in /Users/jasonsuarez/anaconda3/envs/pydata-book/lib/python3.10/site-packages (from requests) (2023.11.17)\n",
      "Requirement already satisfied: ipywidgets<=8.0.4 in /Users/jasonsuarez/anaconda3/envs/pydata-book/lib/python3.10/site-packages (from nbdev) (7.7.2)\n",
      "Requirement already satisfied: fastcore>=1.5.27 in /Users/jasonsuarez/anaconda3/envs/pydata-book/lib/python3.10/site-packages (from nbdev) (1.5.29)\n",
      "Requirement already satisfied: execnb>=0.1.4 in /Users/jasonsuarez/anaconda3/envs/pydata-book/lib/python3.10/site-packages (from nbdev) (0.1.5)\n",
      "Requirement already satisfied: astunparse in /Users/jasonsuarez/anaconda3/envs/pydata-book/lib/python3.10/site-packages (from nbdev) (1.6.3)\n",
      "Requirement already satisfied: ghapi>=1.0.3 in /Users/jasonsuarez/anaconda3/envs/pydata-book/lib/python3.10/site-packages (from nbdev) (1.0.4)\n",
      "Requirement already satisfied: watchdog in /Users/jasonsuarez/anaconda3/envs/pydata-book/lib/python3.10/site-packages (from nbdev) (3.0.0)\n",
      "Requirement already satisfied: asttokens in /Users/jasonsuarez/anaconda3/envs/pydata-book/lib/python3.10/site-packages (from nbdev) (2.4.1)\n",
      "Requirement already satisfied: PyYAML in /Users/jasonsuarez/anaconda3/envs/pydata-book/lib/python3.10/site-packages (from nbdev) (6.0.1)\n",
      "Requirement already satisfied: altair<6,>=4.0 in /Users/jasonsuarez/anaconda3/envs/pydata-book/lib/python3.10/site-packages (from streamlit) (5.2.0)\n",
      "Requirement already satisfied: blinker<2,>=1.0.0 in /Users/jasonsuarez/anaconda3/envs/pydata-book/lib/python3.10/site-packages (from streamlit) (1.7.0)\n",
      "Requirement already satisfied: cachetools<6,>=4.0 in /Users/jasonsuarez/anaconda3/envs/pydata-book/lib/python3.10/site-packages (from streamlit) (5.3.2)\n",
      "Requirement already satisfied: click<9,>=7.0 in /Users/jasonsuarez/anaconda3/envs/pydata-book/lib/python3.10/site-packages (from streamlit) (8.1.7)\n",
      "Requirement already satisfied: importlib-metadata<8,>=1.4 in /Users/jasonsuarez/anaconda3/envs/pydata-book/lib/python3.10/site-packages (from streamlit) (7.0.1)\n",
      "Requirement already satisfied: numpy<2,>=1.19.3 in /Users/jasonsuarez/anaconda3/envs/pydata-book/lib/python3.10/site-packages (from streamlit) (1.26.3)\n",
      "Requirement already satisfied: packaging<24,>=16.8 in /Users/jasonsuarez/anaconda3/envs/pydata-book/lib/python3.10/site-packages (from streamlit) (23.2)\n",
      "Requirement already satisfied: pillow<11,>=7.1.0 in /Users/jasonsuarez/anaconda3/envs/pydata-book/lib/python3.10/site-packages (from streamlit) (10.2.0)\n",
      "Requirement already satisfied: protobuf<5,>=3.20 in /Users/jasonsuarez/anaconda3/envs/pydata-book/lib/python3.10/site-packages (from streamlit) (4.24.4)\n",
      "Requirement already satisfied: pyarrow>=6.0 in /Users/jasonsuarez/anaconda3/envs/pydata-book/lib/python3.10/site-packages (from streamlit) (14.0.2)\n",
      "Requirement already satisfied: python-dateutil<3,>=2.7.3 in /Users/jasonsuarez/anaconda3/envs/pydata-book/lib/python3.10/site-packages (from streamlit) (2.8.2)\n",
      "Requirement already satisfied: rich<14,>=10.14.0 in /Users/jasonsuarez/anaconda3/envs/pydata-book/lib/python3.10/site-packages (from streamlit) (13.7.0)\n",
      "Requirement already satisfied: tenacity<9,>=8.1.0 in /Users/jasonsuarez/anaconda3/envs/pydata-book/lib/python3.10/site-packages (from streamlit) (8.2.3)\n",
      "Requirement already satisfied: toml<2,>=0.10.1 in /Users/jasonsuarez/anaconda3/envs/pydata-book/lib/python3.10/site-packages (from streamlit) (0.10.2)\n",
      "Requirement already satisfied: typing-extensions<5,>=4.3.0 in /Users/jasonsuarez/anaconda3/envs/pydata-book/lib/python3.10/site-packages (from streamlit) (4.9.0)\n",
      "Requirement already satisfied: tzlocal<6,>=1.1 in /Users/jasonsuarez/anaconda3/envs/pydata-book/lib/python3.10/site-packages (from streamlit) (5.2)\n",
      "Requirement already satisfied: validators<1,>=0.2 in /Users/jasonsuarez/anaconda3/envs/pydata-book/lib/python3.10/site-packages (from streamlit) (0.22.0)\n",
      "Requirement already satisfied: gitpython!=3.1.19,<4,>=3.0.7 in /Users/jasonsuarez/anaconda3/envs/pydata-book/lib/python3.10/site-packages (from streamlit) (3.1.41)\n",
      "Requirement already satisfied: pydeck<1,>=0.8.0b4 in /Users/jasonsuarez/anaconda3/envs/pydata-book/lib/python3.10/site-packages (from streamlit) (0.8.0b4)\n",
      "Requirement already satisfied: tornado<7,>=6.0.3 in /Users/jasonsuarez/anaconda3/envs/pydata-book/lib/python3.10/site-packages (from streamlit) (6.3.3)\n",
      "Requirement already satisfied: jupyter in /Users/jasonsuarez/anaconda3/envs/pydata-book/lib/python3.10/site-packages (from streamlit_jupyter) (1.0.0)\n",
      "Requirement already satisfied: stqdm in /Users/jasonsuarez/anaconda3/envs/pydata-book/lib/python3.10/site-packages (from streamlit_jupyter) (0.0.5)\n",
      "Requirement already satisfied: tabulate in /Users/jasonsuarez/anaconda3/envs/pydata-book/lib/python3.10/site-packages (from streamlit_jupyter) (0.9.0)\n",
      "Requirement already satisfied: tqdm in /Users/jasonsuarez/anaconda3/envs/pydata-book/lib/python3.10/site-packages (from streamlit_jupyter) (4.66.1)\n",
      "Requirement already satisfied: ipykernel>=4.5.1 in /Users/jasonsuarez/anaconda3/envs/pydata-book/lib/python3.10/site-packages (from ipywidgets<=8.0.4->nbdev) (6.28.0)\n",
      "Requirement already satisfied: ipython-genutils~=0.2.0 in /Users/jasonsuarez/anaconda3/envs/pydata-book/lib/python3.10/site-packages (from ipywidgets<=8.0.4->nbdev) (0.2.0)\n",
      "Requirement already satisfied: traitlets>=4.3.1 in /Users/jasonsuarez/anaconda3/envs/pydata-book/lib/python3.10/site-packages (from ipywidgets<=8.0.4->nbdev) (5.14.1)\n",
      "Requirement already satisfied: widgetsnbextension~=3.6.0 in /Users/jasonsuarez/anaconda3/envs/pydata-book/lib/python3.10/site-packages (from ipywidgets<=8.0.4->nbdev) (3.6.6)\n",
      "Requirement already satisfied: ipython>=4.0.0 in /Users/jasonsuarez/anaconda3/envs/pydata-book/lib/python3.10/site-packages (from ipywidgets<=8.0.4->nbdev) (8.20.0)\n",
      "Requirement already satisfied: jupyterlab-widgets<3,>=1.0.0 in /Users/jasonsuarez/anaconda3/envs/pydata-book/lib/python3.10/site-packages (from ipywidgets<=8.0.4->nbdev) (1.1.7)\n",
      "Requirement already satisfied: pytz>=2020.1 in /Users/jasonsuarez/anaconda3/envs/pydata-book/lib/python3.10/site-packages (from pandas) (2023.3.post1)\n",
      "Requirement already satisfied: tzdata>=2022.1 in /Users/jasonsuarez/anaconda3/envs/pydata-book/lib/python3.10/site-packages (from pandas) (2023.4)\n",
      "Requirement already satisfied: jinja2 in /Users/jasonsuarez/anaconda3/envs/pydata-book/lib/python3.10/site-packages (from altair<6,>=4.0->streamlit) (3.1.3)\n",
      "Requirement already satisfied: jsonschema>=3.0 in /Users/jasonsuarez/anaconda3/envs/pydata-book/lib/python3.10/site-packages (from altair<6,>=4.0->streamlit) (4.20.0)\n",
      "Requirement already satisfied: toolz in /Users/jasonsuarez/anaconda3/envs/pydata-book/lib/python3.10/site-packages (from altair<6,>=4.0->streamlit) (0.12.0)\n",
      "Requirement already satisfied: pip in /Users/jasonsuarez/anaconda3/envs/pydata-book/lib/python3.10/site-packages (from fastcore>=1.5.27->nbdev) (23.3.2)\n",
      "Requirement already satisfied: gitdb<5,>=4.0.1 in /Users/jasonsuarez/anaconda3/envs/pydata-book/lib/python3.10/site-packages (from gitpython!=3.1.19,<4,>=3.0.7->streamlit) (4.0.11)\n",
      "Requirement already satisfied: zipp>=0.5 in /Users/jasonsuarez/anaconda3/envs/pydata-book/lib/python3.10/site-packages (from importlib-metadata<8,>=1.4->streamlit) (3.17.0)\n",
      "Requirement already satisfied: six>=1.5 in /Users/jasonsuarez/anaconda3/envs/pydata-book/lib/python3.10/site-packages (from python-dateutil<3,>=2.7.3->streamlit) (1.16.0)\n",
      "Requirement already satisfied: markdown-it-py>=2.2.0 in /Users/jasonsuarez/anaconda3/envs/pydata-book/lib/python3.10/site-packages (from rich<14,>=10.14.0->streamlit) (3.0.0)\n",
      "Requirement already satisfied: pygments<3.0.0,>=2.13.0 in /Users/jasonsuarez/anaconda3/envs/pydata-book/lib/python3.10/site-packages (from rich<14,>=10.14.0->streamlit) (2.17.2)\n",
      "Requirement already satisfied: wheel<1.0,>=0.23.0 in /Users/jasonsuarez/anaconda3/envs/pydata-book/lib/python3.10/site-packages (from astunparse->nbdev) (0.42.0)\n",
      "Requirement already satisfied: notebook in /Users/jasonsuarez/anaconda3/envs/pydata-book/lib/python3.10/site-packages (from jupyter->streamlit_jupyter) (7.0.6)\n",
      "Requirement already satisfied: qtconsole in /Users/jasonsuarez/anaconda3/envs/pydata-book/lib/python3.10/site-packages (from jupyter->streamlit_jupyter) (5.5.1)\n",
      "Requirement already satisfied: jupyter-console in /Users/jasonsuarez/anaconda3/envs/pydata-book/lib/python3.10/site-packages (from jupyter->streamlit_jupyter) (6.6.3)\n",
      "Requirement already satisfied: nbconvert in /Users/jasonsuarez/anaconda3/envs/pydata-book/lib/python3.10/site-packages (from jupyter->streamlit_jupyter) (7.14.1)\n",
      "Requirement already satisfied: smmap<6,>=3.0.1 in /Users/jasonsuarez/anaconda3/envs/pydata-book/lib/python3.10/site-packages (from gitdb<5,>=4.0.1->gitpython!=3.1.19,<4,>=3.0.7->streamlit) (5.0.0)\n",
      "Requirement already satisfied: appnope in /Users/jasonsuarez/anaconda3/envs/pydata-book/lib/python3.10/site-packages (from ipykernel>=4.5.1->ipywidgets<=8.0.4->nbdev) (0.1.3)\n",
      "Requirement already satisfied: comm>=0.1.1 in /Users/jasonsuarez/anaconda3/envs/pydata-book/lib/python3.10/site-packages (from ipykernel>=4.5.1->ipywidgets<=8.0.4->nbdev) (0.2.1)\n",
      "Requirement already satisfied: debugpy>=1.6.5 in /Users/jasonsuarez/anaconda3/envs/pydata-book/lib/python3.10/site-packages (from ipykernel>=4.5.1->ipywidgets<=8.0.4->nbdev) (1.8.0)\n",
      "Requirement already satisfied: jupyter-client>=6.1.12 in /Users/jasonsuarez/anaconda3/envs/pydata-book/lib/python3.10/site-packages (from ipykernel>=4.5.1->ipywidgets<=8.0.4->nbdev) (8.6.0)\n",
      "Requirement already satisfied: jupyter-core!=5.0.*,>=4.12 in /Users/jasonsuarez/anaconda3/envs/pydata-book/lib/python3.10/site-packages (from ipykernel>=4.5.1->ipywidgets<=8.0.4->nbdev) (5.7.1)\n",
      "Requirement already satisfied: matplotlib-inline>=0.1 in /Users/jasonsuarez/anaconda3/envs/pydata-book/lib/python3.10/site-packages (from ipykernel>=4.5.1->ipywidgets<=8.0.4->nbdev) (0.1.6)\n",
      "Requirement already satisfied: nest-asyncio in /Users/jasonsuarez/anaconda3/envs/pydata-book/lib/python3.10/site-packages (from ipykernel>=4.5.1->ipywidgets<=8.0.4->nbdev) (1.5.8)\n",
      "Requirement already satisfied: psutil in /Users/jasonsuarez/anaconda3/envs/pydata-book/lib/python3.10/site-packages (from ipykernel>=4.5.1->ipywidgets<=8.0.4->nbdev) (5.9.7)\n",
      "Requirement already satisfied: pyzmq>=24 in /Users/jasonsuarez/anaconda3/envs/pydata-book/lib/python3.10/site-packages (from ipykernel>=4.5.1->ipywidgets<=8.0.4->nbdev) (25.1.2)\n",
      "Requirement already satisfied: decorator in /Users/jasonsuarez/anaconda3/envs/pydata-book/lib/python3.10/site-packages (from ipython>=4.0.0->ipywidgets<=8.0.4->nbdev) (5.1.1)\n",
      "Requirement already satisfied: jedi>=0.16 in /Users/jasonsuarez/anaconda3/envs/pydata-book/lib/python3.10/site-packages (from ipython>=4.0.0->ipywidgets<=8.0.4->nbdev) (0.19.1)\n",
      "Requirement already satisfied: prompt-toolkit<3.1.0,>=3.0.41 in /Users/jasonsuarez/anaconda3/envs/pydata-book/lib/python3.10/site-packages (from ipython>=4.0.0->ipywidgets<=8.0.4->nbdev) (3.0.42)\n",
      "Requirement already satisfied: stack-data in /Users/jasonsuarez/anaconda3/envs/pydata-book/lib/python3.10/site-packages (from ipython>=4.0.0->ipywidgets<=8.0.4->nbdev) (0.6.2)\n",
      "Requirement already satisfied: exceptiongroup in /Users/jasonsuarez/anaconda3/envs/pydata-book/lib/python3.10/site-packages (from ipython>=4.0.0->ipywidgets<=8.0.4->nbdev) (1.2.0)\n",
      "Requirement already satisfied: pexpect>4.3 in /Users/jasonsuarez/anaconda3/envs/pydata-book/lib/python3.10/site-packages (from ipython>=4.0.0->ipywidgets<=8.0.4->nbdev) (4.8.0)\n",
      "Requirement already satisfied: MarkupSafe>=2.0 in /Users/jasonsuarez/anaconda3/envs/pydata-book/lib/python3.10/site-packages (from jinja2->altair<6,>=4.0->streamlit) (2.1.3)\n",
      "Requirement already satisfied: attrs>=22.2.0 in /Users/jasonsuarez/anaconda3/envs/pydata-book/lib/python3.10/site-packages (from jsonschema>=3.0->altair<6,>=4.0->streamlit) (23.2.0)\n",
      "Requirement already satisfied: jsonschema-specifications>=2023.03.6 in /Users/jasonsuarez/anaconda3/envs/pydata-book/lib/python3.10/site-packages (from jsonschema>=3.0->altair<6,>=4.0->streamlit) (2023.12.1)\n",
      "Requirement already satisfied: referencing>=0.28.4 in /Users/jasonsuarez/anaconda3/envs/pydata-book/lib/python3.10/site-packages (from jsonschema>=3.0->altair<6,>=4.0->streamlit) (0.32.1)\n",
      "Requirement already satisfied: rpds-py>=0.7.1 in /Users/jasonsuarez/anaconda3/envs/pydata-book/lib/python3.10/site-packages (from jsonschema>=3.0->altair<6,>=4.0->streamlit) (0.16.2)\n",
      "Requirement already satisfied: mdurl~=0.1 in /Users/jasonsuarez/anaconda3/envs/pydata-book/lib/python3.10/site-packages (from markdown-it-py>=2.2.0->rich<14,>=10.14.0->streamlit) (0.1.2)\n",
      "Requirement already satisfied: jupyter-server<3,>=2.4.0 in /Users/jasonsuarez/anaconda3/envs/pydata-book/lib/python3.10/site-packages (from notebook->jupyter->streamlit_jupyter) (2.12.4)\n",
      "Requirement already satisfied: jupyterlab-server<3,>=2.22.1 in /Users/jasonsuarez/anaconda3/envs/pydata-book/lib/python3.10/site-packages (from notebook->jupyter->streamlit_jupyter) (2.25.2)\n",
      "Requirement already satisfied: jupyterlab<5,>=4.0.2 in /Users/jasonsuarez/anaconda3/envs/pydata-book/lib/python3.10/site-packages (from notebook->jupyter->streamlit_jupyter) (4.0.10)\n",
      "Requirement already satisfied: notebook-shim<0.3,>=0.2 in /Users/jasonsuarez/anaconda3/envs/pydata-book/lib/python3.10/site-packages (from notebook->jupyter->streamlit_jupyter) (0.2.3)\n",
      "Requirement already satisfied: bleach!=5.0.0 in /Users/jasonsuarez/anaconda3/envs/pydata-book/lib/python3.10/site-packages (from nbconvert->jupyter->streamlit_jupyter) (6.1.0)\n",
      "Requirement already satisfied: defusedxml in /Users/jasonsuarez/anaconda3/envs/pydata-book/lib/python3.10/site-packages (from nbconvert->jupyter->streamlit_jupyter) (0.7.1)\n",
      "Requirement already satisfied: jupyterlab-pygments in /Users/jasonsuarez/anaconda3/envs/pydata-book/lib/python3.10/site-packages (from nbconvert->jupyter->streamlit_jupyter) (0.3.0)\n",
      "Requirement already satisfied: mistune<4,>=2.0.3 in /Users/jasonsuarez/anaconda3/envs/pydata-book/lib/python3.10/site-packages (from nbconvert->jupyter->streamlit_jupyter) (3.0.2)\n",
      "Requirement already satisfied: nbclient>=0.5.0 in /Users/jasonsuarez/anaconda3/envs/pydata-book/lib/python3.10/site-packages (from nbconvert->jupyter->streamlit_jupyter) (0.8.0)\n",
      "Requirement already satisfied: nbformat>=5.7 in /Users/jasonsuarez/anaconda3/envs/pydata-book/lib/python3.10/site-packages (from nbconvert->jupyter->streamlit_jupyter) (5.9.2)\n",
      "Requirement already satisfied: pandocfilters>=1.4.1 in /Users/jasonsuarez/anaconda3/envs/pydata-book/lib/python3.10/site-packages (from nbconvert->jupyter->streamlit_jupyter) (1.5.0)\n",
      "Requirement already satisfied: tinycss2 in /Users/jasonsuarez/anaconda3/envs/pydata-book/lib/python3.10/site-packages (from nbconvert->jupyter->streamlit_jupyter) (1.2.1)\n",
      "Requirement already satisfied: qtpy>=2.4.0 in /Users/jasonsuarez/anaconda3/envs/pydata-book/lib/python3.10/site-packages (from qtconsole->jupyter->streamlit_jupyter) (2.4.1)\n",
      "Requirement already satisfied: webencodings in /Users/jasonsuarez/anaconda3/envs/pydata-book/lib/python3.10/site-packages (from bleach!=5.0.0->nbconvert->jupyter->streamlit_jupyter) (0.5.1)\n",
      "Requirement already satisfied: parso<0.9.0,>=0.8.3 in /Users/jasonsuarez/anaconda3/envs/pydata-book/lib/python3.10/site-packages (from jedi>=0.16->ipython>=4.0.0->ipywidgets<=8.0.4->nbdev) (0.8.3)\n",
      "Requirement already satisfied: platformdirs>=2.5 in /Users/jasonsuarez/anaconda3/envs/pydata-book/lib/python3.10/site-packages (from jupyter-core!=5.0.*,>=4.12->ipykernel>=4.5.1->ipywidgets<=8.0.4->nbdev) (4.1.0)\n",
      "Requirement already satisfied: anyio>=3.1.0 in /Users/jasonsuarez/anaconda3/envs/pydata-book/lib/python3.10/site-packages (from jupyter-server<3,>=2.4.0->notebook->jupyter->streamlit_jupyter) (4.2.0)\n",
      "Requirement already satisfied: argon2-cffi in /Users/jasonsuarez/anaconda3/envs/pydata-book/lib/python3.10/site-packages (from jupyter-server<3,>=2.4.0->notebook->jupyter->streamlit_jupyter) (23.1.0)\n",
      "Requirement already satisfied: jupyter-events>=0.9.0 in /Users/jasonsuarez/anaconda3/envs/pydata-book/lib/python3.10/site-packages (from jupyter-server<3,>=2.4.0->notebook->jupyter->streamlit_jupyter) (0.9.0)\n",
      "Requirement already satisfied: jupyter-server-terminals in /Users/jasonsuarez/anaconda3/envs/pydata-book/lib/python3.10/site-packages (from jupyter-server<3,>=2.4.0->notebook->jupyter->streamlit_jupyter) (0.5.1)\n",
      "Requirement already satisfied: overrides in /Users/jasonsuarez/anaconda3/envs/pydata-book/lib/python3.10/site-packages (from jupyter-server<3,>=2.4.0->notebook->jupyter->streamlit_jupyter) (7.4.0)\n",
      "Requirement already satisfied: prometheus-client in /Users/jasonsuarez/anaconda3/envs/pydata-book/lib/python3.10/site-packages (from jupyter-server<3,>=2.4.0->notebook->jupyter->streamlit_jupyter) (0.19.0)\n",
      "Requirement already satisfied: send2trash>=1.8.2 in /Users/jasonsuarez/anaconda3/envs/pydata-book/lib/python3.10/site-packages (from jupyter-server<3,>=2.4.0->notebook->jupyter->streamlit_jupyter) (1.8.2)\n",
      "Requirement already satisfied: terminado>=0.8.3 in /Users/jasonsuarez/anaconda3/envs/pydata-book/lib/python3.10/site-packages (from jupyter-server<3,>=2.4.0->notebook->jupyter->streamlit_jupyter) (0.18.0)\n",
      "Requirement already satisfied: websocket-client in /Users/jasonsuarez/anaconda3/envs/pydata-book/lib/python3.10/site-packages (from jupyter-server<3,>=2.4.0->notebook->jupyter->streamlit_jupyter) (1.7.0)\n",
      "Requirement already satisfied: async-lru>=1.0.0 in /Users/jasonsuarez/anaconda3/envs/pydata-book/lib/python3.10/site-packages (from jupyterlab<5,>=4.0.2->notebook->jupyter->streamlit_jupyter) (2.0.4)\n",
      "Requirement already satisfied: jupyter-lsp>=2.0.0 in /Users/jasonsuarez/anaconda3/envs/pydata-book/lib/python3.10/site-packages (from jupyterlab<5,>=4.0.2->notebook->jupyter->streamlit_jupyter) (2.2.1)\n",
      "Requirement already satisfied: tomli in /Users/jasonsuarez/anaconda3/envs/pydata-book/lib/python3.10/site-packages (from jupyterlab<5,>=4.0.2->notebook->jupyter->streamlit_jupyter) (2.0.1)\n",
      "Requirement already satisfied: babel>=2.10 in /Users/jasonsuarez/anaconda3/envs/pydata-book/lib/python3.10/site-packages (from jupyterlab-server<3,>=2.22.1->notebook->jupyter->streamlit_jupyter) (2.14.0)\n",
      "Requirement already satisfied: json5>=0.9.0 in /Users/jasonsuarez/anaconda3/envs/pydata-book/lib/python3.10/site-packages (from jupyterlab-server<3,>=2.22.1->notebook->jupyter->streamlit_jupyter) (0.9.14)\n",
      "Requirement already satisfied: fastjsonschema in /Users/jasonsuarez/anaconda3/envs/pydata-book/lib/python3.10/site-packages (from nbformat>=5.7->nbconvert->jupyter->streamlit_jupyter) (2.19.1)\n",
      "Requirement already satisfied: ptyprocess>=0.5 in /Users/jasonsuarez/anaconda3/envs/pydata-book/lib/python3.10/site-packages (from pexpect>4.3->ipython>=4.0.0->ipywidgets<=8.0.4->nbdev) (0.7.0)\n",
      "Requirement already satisfied: wcwidth in /Users/jasonsuarez/anaconda3/envs/pydata-book/lib/python3.10/site-packages (from prompt-toolkit<3.1.0,>=3.0.41->ipython>=4.0.0->ipywidgets<=8.0.4->nbdev) (0.2.13)\n",
      "Requirement already satisfied: executing>=1.2.0 in /Users/jasonsuarez/anaconda3/envs/pydata-book/lib/python3.10/site-packages (from stack-data->ipython>=4.0.0->ipywidgets<=8.0.4->nbdev) (2.0.1)\n",
      "Requirement already satisfied: pure-eval in /Users/jasonsuarez/anaconda3/envs/pydata-book/lib/python3.10/site-packages (from stack-data->ipython>=4.0.0->ipywidgets<=8.0.4->nbdev) (0.2.2)\n",
      "Requirement already satisfied: sniffio>=1.1 in /Users/jasonsuarez/anaconda3/envs/pydata-book/lib/python3.10/site-packages (from anyio>=3.1.0->jupyter-server<3,>=2.4.0->notebook->jupyter->streamlit_jupyter) (1.3.0)\n",
      "Requirement already satisfied: python-json-logger>=2.0.4 in /Users/jasonsuarez/anaconda3/envs/pydata-book/lib/python3.10/site-packages (from jupyter-events>=0.9.0->jupyter-server<3,>=2.4.0->notebook->jupyter->streamlit_jupyter) (2.0.7)\n",
      "Requirement already satisfied: rfc3339-validator in /Users/jasonsuarez/anaconda3/envs/pydata-book/lib/python3.10/site-packages (from jupyter-events>=0.9.0->jupyter-server<3,>=2.4.0->notebook->jupyter->streamlit_jupyter) (0.1.4)\n",
      "Requirement already satisfied: rfc3986-validator>=0.1.1 in /Users/jasonsuarez/anaconda3/envs/pydata-book/lib/python3.10/site-packages (from jupyter-events>=0.9.0->jupyter-server<3,>=2.4.0->notebook->jupyter->streamlit_jupyter) (0.1.1)\n",
      "Requirement already satisfied: argon2-cffi-bindings in /Users/jasonsuarez/anaconda3/envs/pydata-book/lib/python3.10/site-packages (from argon2-cffi->jupyter-server<3,>=2.4.0->notebook->jupyter->streamlit_jupyter) (21.2.0)\n",
      "Requirement already satisfied: fqdn in /Users/jasonsuarez/anaconda3/envs/pydata-book/lib/python3.10/site-packages (from jsonschema[format-nongpl]>=4.18.0->jupyter-events>=0.9.0->jupyter-server<3,>=2.4.0->notebook->jupyter->streamlit_jupyter) (1.5.1)\n",
      "Requirement already satisfied: isoduration in /Users/jasonsuarez/anaconda3/envs/pydata-book/lib/python3.10/site-packages (from jsonschema[format-nongpl]>=4.18.0->jupyter-events>=0.9.0->jupyter-server<3,>=2.4.0->notebook->jupyter->streamlit_jupyter) (20.11.0)\n",
      "Requirement already satisfied: jsonpointer>1.13 in /Users/jasonsuarez/anaconda3/envs/pydata-book/lib/python3.10/site-packages (from jsonschema[format-nongpl]>=4.18.0->jupyter-events>=0.9.0->jupyter-server<3,>=2.4.0->notebook->jupyter->streamlit_jupyter) (2.4)\n",
      "Requirement already satisfied: uri-template in /Users/jasonsuarez/anaconda3/envs/pydata-book/lib/python3.10/site-packages (from jsonschema[format-nongpl]>=4.18.0->jupyter-events>=0.9.0->jupyter-server<3,>=2.4.0->notebook->jupyter->streamlit_jupyter) (1.3.0)\n",
      "Requirement already satisfied: webcolors>=1.11 in /Users/jasonsuarez/anaconda3/envs/pydata-book/lib/python3.10/site-packages (from jsonschema[format-nongpl]>=4.18.0->jupyter-events>=0.9.0->jupyter-server<3,>=2.4.0->notebook->jupyter->streamlit_jupyter) (1.13)\n",
      "Requirement already satisfied: cffi>=1.0.1 in /Users/jasonsuarez/anaconda3/envs/pydata-book/lib/python3.10/site-packages (from argon2-cffi-bindings->argon2-cffi->jupyter-server<3,>=2.4.0->notebook->jupyter->streamlit_jupyter) (1.16.0)\n",
      "Requirement already satisfied: pycparser in /Users/jasonsuarez/anaconda3/envs/pydata-book/lib/python3.10/site-packages (from cffi>=1.0.1->argon2-cffi-bindings->argon2-cffi->jupyter-server<3,>=2.4.0->notebook->jupyter->streamlit_jupyter) (2.21)\n",
      "Requirement already satisfied: arrow>=0.15.0 in /Users/jasonsuarez/anaconda3/envs/pydata-book/lib/python3.10/site-packages (from isoduration->jsonschema[format-nongpl]>=4.18.0->jupyter-events>=0.9.0->jupyter-server<3,>=2.4.0->notebook->jupyter->streamlit_jupyter) (1.3.0)\n",
      "Requirement already satisfied: types-python-dateutil>=2.8.10 in /Users/jasonsuarez/anaconda3/envs/pydata-book/lib/python3.10/site-packages (from arrow>=0.15.0->isoduration->jsonschema[format-nongpl]>=4.18.0->jupyter-events>=0.9.0->jupyter-server<3,>=2.4.0->notebook->jupyter->streamlit_jupyter) (2.8.19.20240106)\n"
     ]
    }
   ],
   "source": [
    "!pip install beautifulsoup4 requests nbdev streamlit streamlit_jupyter pandas lxml"
   ]
  },
  {
   "cell_type": "markdown",
   "id": "847f599e-cb7e-4a34-83c0-dee0a861c367",
   "metadata": {},
   "source": [
    "The # |exporti comment indicates that this cell is part of a module being prepared for export, using nbdev.\n",
    "This cell imports the BeautifulSoup class from bs4 for parsing HTML and XML documents, requests for making HTTP requests, pandas (aliased as pd) for data manipulation and analysis, and streamlit (aliased as st) for building web applications. This setup prepares the necessary tools for web scraping and data handling."
   ]
  },
  {
   "cell_type": "code",
   "execution_count": 296,
   "id": "3787896f-c888-4218-bb36-8245c193a5cf",
   "metadata": {},
   "outputs": [],
   "source": [
    "\n",
    "# |exporti\n",
    "from bs4 import BeautifulSoup\n",
    "import requests\n",
    "import pandas as pd\n",
    "import streamlit as st"
   ]
  },
  {
   "cell_type": "markdown",
   "id": "6e31314c-1fb8-4d15-9a96-8df5023b2295",
   "metadata": {},
   "source": [
    "This cell sets up the base URL for the CNIL's AI glossary page. It then initializes an empty list named pages.\n",
    "A for loop runs 13 times (indicating there are likely 13 pages to scrape), appending the full URL of each page to the pages list. This is the preparatory step for iterating over multiple pages of the glossary."
   ]
  },
  {
   "cell_type": "code",
   "execution_count": 297,
   "id": "88c83495-ca3e-4711-8683-812a8b5aad6e",
   "metadata": {},
   "outputs": [],
   "source": [
    "# |exporti\n",
    "base_link = \"https://www.cnil.fr/fr/intelligence-artificielle/glossaire-ia?page=\"\n",
    "pages = []\n",
    "for i in range(13):\n",
    "    pages.append(base_link + str(i))\n"
   ]
  },
  {
   "cell_type": "markdown",
   "id": "06cc3de2-7f09-49a4-85c6-aac0037729f1",
   "metadata": {},
   "source": [
    "This cell uses Python's map and chr functions along with range(97, 123) to create a list of lowercase English alphabet characters. The ASCII values from 97 to 122 correspond to the lowercase letters 'a' through 'z'. This list, named alphabet_list, is likely used to iterate through the alphabetically sorted entries in the CNIL's AI glossary."
   ]
  },
  {
   "cell_type": "code",
   "execution_count": 298,
   "id": "b12b4845-caf9-49f1-bf1f-07484acee55e",
   "metadata": {},
   "outputs": [],
   "source": [
    "# |exporti\n",
    "alphabet_list = list(map(chr, range(97, 123)))"
   ]
  },
  {
   "cell_type": "markdown",
   "id": "057ca519-3f36-4b11-ad80-cd0fef36e432",
   "metadata": {},
   "source": [
    "This cell initializes an empty dictionary named alphabet_obj.\n",
    "It then iterates over each character in the previously created alphabet_list, creating a key for each letter in the dictionary with an empty list as its value. This structure (alphabet_obj) is likely designed to store the scraped data categorized by the initial letter of each entry in the glossary."
   ]
  },
  {
   "cell_type": "code",
   "execution_count": 299,
   "id": "11d01d0f-6b7d-4d9c-8f8d-64566648c38b",
   "metadata": {},
   "outputs": [],
   "source": [
    "# |exporti\n",
    "alphabet_obj = {}\n",
    "\n",
    "for char in alphabet_list:\n",
    "    alphabet_obj[char]= []"
   ]
  },
  {
   "cell_type": "markdown",
   "id": "896f3955-f3f3-46ae-b800-182f8a500ba4",
   "metadata": {},
   "source": [
    "The cell defines a function word_format which takes an HTML element representing a word (or glossary entry) as its argument.\n",
    "Within the function, it creates an empty dictionary named obj.\n",
    "It extracts the title of the entry (the word itself) from an HTML element with class definition-liste-titre and assigns it to the key title in the obj dictionary.\n",
    "The definition of the word is extracted from a div with class definition-liste-body, and it's assigned to the key definition in obj.\n",
    "The entry's first letter is stored under the key entry, which is likely used for alphabet-based categorization.\n",
    "Additionally, it extracts the hyperlink associated with the word (for more information) and assigns it to the key link in obj.\n",
    "Finally, the function returns the obj dictionary containing the structured data of the word.\n"
   ]
  },
  {
   "cell_type": "code",
   "execution_count": 300,
   "id": "f8951477-0f51-4a9f-8e76-236f254d8879",
   "metadata": {},
   "outputs": [],
   "source": [
    "# |exporti\n",
    "def word_format(word):\n",
    "    obj = {}\n",
    "    title = word.find(\"h3\", class_=\"definition-liste-titre\").a.text\n",
    "    obj[\"title\"] = title\n",
    "    definition = word.find(\"div\", class_= \"definition-liste-body\").text.strip()\n",
    "    obj[\"definition\"] = definition\n",
    "    obj[\"entry\"] = title[0].lower()\n",
    "    link = word.find(\"h3\", class_=\"definition-liste-titre\").a.get(\"href\")\n",
    "    obj[\"link\"] = link\n",
    "    \n",
    "    return obj\n"
   ]
  },
  {
   "cell_type": "markdown",
   "id": "b692d35c-b686-4ce7-998d-b6f3507c270e",
   "metadata": {},
   "source": [
    "This cell iterates through each URL stored in the pages list created earlier.\n",
    "For each page, it uses requests.get(page).text to fetch the HTML content and then parses it with BeautifulSoup using the lxml parser.\n",
    "It finds all div elements with the class list-inner, which likely contain individual word entries.\n",
    "Within a nested loop, each word entry is passed to the word_format function (defined in a previous cell) to structure the data.\n",
    "The returned object (obj) is then added to the appropriate list in the alphabet_obj dictionary based on the first letter of the entry. If the key does not exist, it's created and initialized with an empty list before appending obj.\n",
    "This process effectively categorizes and stores all scraped glossary entries by their starting letter."
   ]
  },
  {
   "cell_type": "code",
   "execution_count": 301,
   "id": "6f25977b-0f8a-46cf-8bee-bbe0591cbf26",
   "metadata": {},
   "outputs": [],
   "source": [
    "# |exporti\n",
    "for page in pages:\n",
    "    html_text = requests.get(page).text\n",
    "    soup = BeautifulSoup(html_text, 'lxml')\n",
    "    words = soup.find_all(\"div\",class_=\"list-inner\")\n",
    "    for word in words:\n",
    "        obj = word_format(word)\n",
    "        try:\n",
    "            alphabet_obj[obj[\"entry\"]].append(obj)\n",
    "        except:\n",
    "            alphabet_obj[obj[\"entry\"]] = []\n",
    "            alphabet_obj[obj[\"entry\"]].append(obj)\n"
   ]
  },
  {
   "cell_type": "markdown",
   "id": "be5a898f-14a1-46c5-85f3-03927f985a94",
   "metadata": {},
   "source": [
    "This cell seems to be setting up the interface for a Streamlit application.\n",
    "It imports StreamlitPatcher and tqdm from streamlit_jupyter. StreamlitPatcher is likely used to enable Streamlit functionality in a Jupyter environment.\n",
    "The StreamlitPatcher().jupyter() call initializes Streamlit's integration with the Jupyter notebook.\n",
    "It also imports pandas (aliased as pd), which is a crucial library for data manipulation and is possibly used later in the Streamlit app for handling the scraped data."
   ]
  },
  {
   "cell_type": "markdown",
   "id": "3ec48c4e-5fec-4617-8b23-36027d08029f",
   "metadata": {},
   "source": [
    "\n",
    "# Streamlit interface\n",
    "\n",
    "from streamlit_jupyter import StreamlitPatcher, tqdm\n",
    "StreamlitPatcher().jupyter()\n",
    "import pandas as pd\n",
    "\n"
   ]
  },
  {
   "cell_type": "markdown",
   "id": "21b7159f-81bd-4f16-956a-0d8459a45c8f",
   "metadata": {},
   "source": [
    "This cell extracts the keys from the alphabet_obj dictionary and stores them in a variable named entries.\n",
    "These keys, which are the letters of the alphabet, are likely used in the Streamlit interface to allow users to select glossary entries based on their starting letter."
   ]
  },
  {
   "cell_type": "code",
   "execution_count": 303,
   "id": "81203873-2baa-4b41-80c1-ca71cf96e68a",
   "metadata": {},
   "outputs": [],
   "source": [
    "# |exporti\n",
    "entries = alphabet_obj.keys()\n"
   ]
  },
  {
   "cell_type": "markdown",
   "id": "10017588-fca7-4d85-b4ab-605c15218ae1",
   "metadata": {},
   "source": [
    "**Cell 10 - Streamlit Title and Markdown:**\n",
    "This cell uses Streamlit functions to create the title and a markdown description for the Streamlit application.\n",
    "st.title(\"Glossaire IA\") sets the title of the web application.\n",
    "st.markdown is used to provide a description of the application, mentioning that the data was extracted from the CNIL website. It includes a hyperlink to the CNIL AI glossary page.\n",
    "A dropdown menu is created using st.selectbox, allowing users to select a letter from the entries (which are the keys of the alphabet_obj dictionary). This dropdown is used to filter terms in the glossary based on their starting letter."
   ]
  },
  {
   "cell_type": "code",
   "execution_count": 304,
   "id": "159faaac-8a7b-4695-a5d0-2efcbf118756",
   "metadata": {},
   "outputs": [
    {
     "data": {
      "text/markdown": [
       "# GLossaire IA"
      ],
      "text/plain": [
       "<IPython.core.display.Markdown object>"
      ]
     },
     "metadata": {},
     "output_type": "display_data"
    },
    {
     "data": {
      "text/markdown": [
       "Les données ont été extraites du site de [CNIL](https://www.cnil.fr/fr/intelligence-artificielle/glossaire-ia?page=0) à fin de créer une application qui présente les entrées de façon plus intuitive de pouvoir créer des questionnaires."
      ],
      "text/plain": [
       "<IPython.core.display.Markdown object>"
      ]
     },
     "metadata": {},
     "output_type": "display_data"
    },
    {
     "data": {
      "application/vnd.jupyter.widget-view+json": {
       "model_id": "642374391ea24afeb49626b5d936a0bf",
       "version_major": 2,
       "version_minor": 0
      },
      "text/plain": [
       "Dropdown(description='Par quelle lettre commence le terme que vous cherchez', options=('a', 'b', 'c', 'd', 'e'…"
      ]
     },
     "metadata": {},
     "output_type": "display_data"
    }
   ],
   "source": [
    "# |exporti\n",
    "st.title(\"GLossaire IA\")\n",
    "st.markdown(\"Les données ont été extraites du site de [CNIL](%s) à fin de créer une application qui présente les entrées de façon plus intuitive de pouvoir créer des questionnaires.\" % pages[0])\n",
    "\n",
    "selected_letter = st.selectbox(\n",
    "    'Par quelle lettre commence le terme que vous cherchez',\n",
    "    entries)\n",
    "\n"
   ]
  },
  {
   "cell_type": "markdown",
   "id": "eb8f83a3-1a7a-481d-8705-c913ec3ab0b2",
   "metadata": {},
   "source": [
    "**Cell 11 - Displaying Dataframe in Streamlit:**\n",
    "This cell creates a Pandas DataFrame from the list of entries in alphabet_obj corresponding to the selected letter from the dropdown menu.\n",
    "st.dataframe(df) is then used to display this DataFrame in the Streamlit application. It shows the glossary terms that start with the selected letter along with their definitions, entry letters, and hyperlinks."
   ]
  },
  {
   "cell_type": "code",
   "execution_count": 305,
   "id": "d872b047-9f8e-4952-91da-c4d37108b6c5",
   "metadata": {},
   "outputs": [
    {
     "data": {
      "text/html": [
       "<div>\n",
       "<style scoped>\n",
       "    .dataframe tbody tr th:only-of-type {\n",
       "        vertical-align: middle;\n",
       "    }\n",
       "\n",
       "    .dataframe tbody tr th {\n",
       "        vertical-align: top;\n",
       "    }\n",
       "\n",
       "    .dataframe thead th {\n",
       "        text-align: right;\n",
       "    }\n",
       "</style>\n",
       "<table border=\"1\" class=\"dataframe\">\n",
       "  <thead>\n",
       "    <tr style=\"text-align: right;\">\n",
       "      <th></th>\n",
       "      <th>title</th>\n",
       "      <th>definition</th>\n",
       "      <th>entry</th>\n",
       "      <th>link</th>\n",
       "    </tr>\n",
       "  </thead>\n",
       "  <tbody>\n",
       "    <tr>\n",
       "      <th>0</th>\n",
       "      <td>Algorithme</td>\n",
       "      <td>Un algorithme est la description d'une suite d...</td>\n",
       "      <td>a</td>\n",
       "      <td>/fr/definition/algorithme</td>\n",
       "    </tr>\n",
       "    <tr>\n",
       "      <th>1</th>\n",
       "      <td>Annotation (IA)</td>\n",
       "      <td>L’annotation est le procédé par lequel les don...</td>\n",
       "      <td>a</td>\n",
       "      <td>/fr/definition/annotation-ia</td>\n",
       "    </tr>\n",
       "    <tr>\n",
       "      <th>2</th>\n",
       "      <td>Apprentissage auto-supervisé</td>\n",
       "      <td>L’apprentissage auto-supervisé est une méthode...</td>\n",
       "      <td>a</td>\n",
       "      <td>/fr/definition/apprentissage-auto-supervise</td>\n",
       "    </tr>\n",
       "    <tr>\n",
       "      <th>3</th>\n",
       "      <td>Apprentissage automatique</td>\n",
       "      <td>L’apprentissage automatique (machine learning ...</td>\n",
       "      <td>a</td>\n",
       "      <td>/fr/definition/apprentissage-automatique</td>\n",
       "    </tr>\n",
       "    <tr>\n",
       "      <th>4</th>\n",
       "      <td>Apprentissage continu</td>\n",
       "      <td>L’apprentissage continu est la capacité d’un s...</td>\n",
       "      <td>a</td>\n",
       "      <td>/fr/definition/apprentissage-continu</td>\n",
       "    </tr>\n",
       "    <tr>\n",
       "      <th>5</th>\n",
       "      <td>Apprentissage fédéré</td>\n",
       "      <td>L’apprentissage fédéré est un paradigme d'appr...</td>\n",
       "      <td>a</td>\n",
       "      <td>/fr/definition/apprentissage-federe</td>\n",
       "    </tr>\n",
       "    <tr>\n",
       "      <th>6</th>\n",
       "      <td>Apprentissage non supervisé</td>\n",
       "      <td>L’apprentissage non supervisé est un procédé d...</td>\n",
       "      <td>a</td>\n",
       "      <td>/fr/definition/apprentissage-non-supervise</td>\n",
       "    </tr>\n",
       "    <tr>\n",
       "      <th>7</th>\n",
       "      <td>Apprentissage par renforcement</td>\n",
       "      <td>L’apprentissage par renforcement est un procéd...</td>\n",
       "      <td>a</td>\n",
       "      <td>/fr/definition/apprentissage-par-renforcement</td>\n",
       "    </tr>\n",
       "    <tr>\n",
       "      <th>8</th>\n",
       "      <td>Apprentissage par renforcement et rétroaction ...</td>\n",
       "      <td>Approche d’apprentissage par renforcement qui ...</td>\n",
       "      <td>a</td>\n",
       "      <td>/fr/definition/apprentissage-par-renforcement-...</td>\n",
       "    </tr>\n",
       "    <tr>\n",
       "      <th>9</th>\n",
       "      <td>Apprentissage par transfert</td>\n",
       "      <td>En apprentissage automatique, l’apprentissage ...</td>\n",
       "      <td>a</td>\n",
       "      <td>/fr/definition/apprentissage-par-transfert</td>\n",
       "    </tr>\n",
       "    <tr>\n",
       "      <th>10</th>\n",
       "      <td>Apprentissage profond (deep learning)</td>\n",
       "      <td>L’apprentissage profond est un procédé d’appre...</td>\n",
       "      <td>a</td>\n",
       "      <td>/fr/definition/apprentissage-profond-deep-lear...</td>\n",
       "    </tr>\n",
       "    <tr>\n",
       "      <th>11</th>\n",
       "      <td>Apprentissage supervisé</td>\n",
       "      <td>L’apprentissage supervisé est un procédé d’app...</td>\n",
       "      <td>a</td>\n",
       "      <td>/fr/definition/apprentissage-supervise</td>\n",
       "    </tr>\n",
       "    <tr>\n",
       "      <th>12</th>\n",
       "      <td>Attaque par empoisonnement (data poisoning att...</td>\n",
       "      <td>Les attaques par empoisonnement visent à modif...</td>\n",
       "      <td>a</td>\n",
       "      <td>/fr/definition/attaque-par-empoisonnement-data...</td>\n",
       "    </tr>\n",
       "    <tr>\n",
       "      <th>13</th>\n",
       "      <td>Attaque par exemples contradictoires (adversar...</td>\n",
       "      <td>Les attaques par exemples contradictoires vise...</td>\n",
       "      <td>a</td>\n",
       "      <td>/fr/definition/attaque-par-exemples-contradict...</td>\n",
       "    </tr>\n",
       "    <tr>\n",
       "      <th>14</th>\n",
       "      <td>Attaque par exfiltration de modèle (model evas...</td>\n",
       "      <td>Les attaques par exfiltration de modèle visent...</td>\n",
       "      <td>a</td>\n",
       "      <td>/fr/definition/attaque-par-exfiltration-de-mod...</td>\n",
       "    </tr>\n",
       "    <tr>\n",
       "      <th>15</th>\n",
       "      <td>Attaque par inférence d'appartenance (membersh...</td>\n",
       "      <td>Les attaques par inférence d'appartenance vise...</td>\n",
       "      <td>a</td>\n",
       "      <td>/fr/definition/attaque-par-inference-dapparten...</td>\n",
       "    </tr>\n",
       "    <tr>\n",
       "      <th>16</th>\n",
       "      <td>Attaque par inversion de modèle (model inversi...</td>\n",
       "      <td>Les attaques par inversion visent à reconstrui...</td>\n",
       "      <td>a</td>\n",
       "      <td>/fr/definition/attaque-par-inversion-de-modele...</td>\n",
       "    </tr>\n",
       "    <tr>\n",
       "      <th>17</th>\n",
       "      <td>Augmentation de données (IA)</td>\n",
       "      <td>Dans le domaine de l'intelligence artificielle...</td>\n",
       "      <td>a</td>\n",
       "      <td>/fr/definition/augmentation-de-donnees-ia</td>\n",
       "    </tr>\n",
       "  </tbody>\n",
       "</table>\n",
       "</div>"
      ],
      "text/plain": [
       "                                                title  \\\n",
       "0                                         Algorithme    \n",
       "1                                     Annotation (IA)   \n",
       "2                        Apprentissage auto-supervisé   \n",
       "3                           Apprentissage automatique   \n",
       "4                               Apprentissage continu   \n",
       "5                                Apprentissage fédéré   \n",
       "6                         Apprentissage non supervisé   \n",
       "7                      Apprentissage par renforcement   \n",
       "8   Apprentissage par renforcement et rétroaction ...   \n",
       "9                        Apprentissage par transfert    \n",
       "10              Apprentissage profond (deep learning)   \n",
       "11                            Apprentissage supervisé   \n",
       "12  Attaque par empoisonnement (data poisoning att...   \n",
       "13  Attaque par exemples contradictoires (adversar...   \n",
       "14  Attaque par exfiltration de modèle (model evas...   \n",
       "15  Attaque par inférence d'appartenance (membersh...   \n",
       "16  Attaque par inversion de modèle (model inversi...   \n",
       "17                       Augmentation de données (IA)   \n",
       "\n",
       "                                           definition entry  \\\n",
       "0   Un algorithme est la description d'une suite d...     a   \n",
       "1   L’annotation est le procédé par lequel les don...     a   \n",
       "2   L’apprentissage auto-supervisé est une méthode...     a   \n",
       "3   L’apprentissage automatique (machine learning ...     a   \n",
       "4   L’apprentissage continu est la capacité d’un s...     a   \n",
       "5   L’apprentissage fédéré est un paradigme d'appr...     a   \n",
       "6   L’apprentissage non supervisé est un procédé d...     a   \n",
       "7   L’apprentissage par renforcement est un procéd...     a   \n",
       "8   Approche d’apprentissage par renforcement qui ...     a   \n",
       "9   En apprentissage automatique, l’apprentissage ...     a   \n",
       "10  L’apprentissage profond est un procédé d’appre...     a   \n",
       "11  L’apprentissage supervisé est un procédé d’app...     a   \n",
       "12  Les attaques par empoisonnement visent à modif...     a   \n",
       "13  Les attaques par exemples contradictoires vise...     a   \n",
       "14  Les attaques par exfiltration de modèle visent...     a   \n",
       "15  Les attaques par inférence d'appartenance vise...     a   \n",
       "16  Les attaques par inversion visent à reconstrui...     a   \n",
       "17  Dans le domaine de l'intelligence artificielle...     a   \n",
       "\n",
       "                                                 link  \n",
       "0                           /fr/definition/algorithme  \n",
       "1                        /fr/definition/annotation-ia  \n",
       "2         /fr/definition/apprentissage-auto-supervise  \n",
       "3            /fr/definition/apprentissage-automatique  \n",
       "4                /fr/definition/apprentissage-continu  \n",
       "5                 /fr/definition/apprentissage-federe  \n",
       "6          /fr/definition/apprentissage-non-supervise  \n",
       "7       /fr/definition/apprentissage-par-renforcement  \n",
       "8   /fr/definition/apprentissage-par-renforcement-...  \n",
       "9          /fr/definition/apprentissage-par-transfert  \n",
       "10  /fr/definition/apprentissage-profond-deep-lear...  \n",
       "11             /fr/definition/apprentissage-supervise  \n",
       "12  /fr/definition/attaque-par-empoisonnement-data...  \n",
       "13  /fr/definition/attaque-par-exemples-contradict...  \n",
       "14  /fr/definition/attaque-par-exfiltration-de-mod...  \n",
       "15  /fr/definition/attaque-par-inference-dapparten...  \n",
       "16  /fr/definition/attaque-par-inversion-de-modele...  \n",
       "17          /fr/definition/augmentation-de-donnees-ia  "
      ]
     },
     "metadata": {},
     "output_type": "display_data"
    }
   ],
   "source": [
    "# |exporti\n",
    "df = pd.DataFrame(alphabet_obj[selected_letter])\n",
    "st.dataframe(df)"
   ]
  },
  {
   "cell_type": "markdown",
   "id": "b71cfed5-191b-4dc6-9f16-9d842e188e8f",
   "metadata": {},
   "source": [
    "Cell 12 - Creating a List of Titles for Entries:\n",
    "This cell defines a function print_ that returns the title of a glossary entry.\n",
    "It then creates a list named word_list by mapping the print_ function over the list of entries in alphabet_obj corresponding to the selected letter. This process extracts just the titles of the entries, likely for display or further processing in the Streamlit application."
   ]
  },
  {
   "cell_type": "code",
   "execution_count": 306,
   "id": "13d77d0a-fc9a-48de-80ed-68b1ad1b6fbd",
   "metadata": {},
   "outputs": [],
   "source": [
    "# |exporti\n",
    "def print_(e):\n",
    "    return e[\"title\"]\n",
    "word_list= list(map(print_, alphabet_obj[selected_letter]))\n",
    "\n"
   ]
  },
  {
   "cell_type": "markdown",
   "id": "2d5baf28-ba52-4160-9972-4c1a1cbac7e6",
   "metadata": {},
   "source": [
    "This cell adds another dropdown menu to the Streamlit interface. This menu allows the user to select a specific word from the list of words (word_list) that start with the previously selected letter. If there are no words in the list, it displays a message indicating that there are no corresponding entries."
   ]
  },
  {
   "cell_type": "code",
   "execution_count": 307,
   "id": "c7a6152d-af45-4eff-aafb-d006082f2431",
   "metadata": {},
   "outputs": [
    {
     "data": {
      "application/vnd.jupyter.widget-view+json": {
       "model_id": "5f2b4e82384d473f9bb8faa0ae87c511",
       "version_major": 2,
       "version_minor": 0
      },
      "text/plain": [
       "Dropdown(description='Quel mot cherchez-vous?', options=('Algorithme ', 'Annotation (IA)', 'Apprentissage auto…"
      ]
     },
     "metadata": {},
     "output_type": "display_data"
    }
   ],
   "source": [
    "# |exporti\n",
    "selected_entry = None\n",
    "isLen =len(word_list) > 0\n",
    "if isLen:\n",
    "    selected_entry = st.selectbox(\n",
    "        'Quel mot cherchez-vous?',\n",
    "        word_list)\n",
    "else:\n",
    "    st.write(\"Il n'y a pas de mots correspondant à cette entrée.\")"
   ]
  },
  {
   "cell_type": "markdown",
   "id": "18c14c56-4050-4f94-8876-813f17f1da05",
   "metadata": {},
   "source": [
    "This cell defines a filtering function (filter_cb) to find the glossary entry that matches the user's selected word. It then displays the definition of the selected word in the Streamlit interface. Additionally, it provides a hyperlink to the CNIL page for more information about the selected term.\n",
    "\n"
   ]
  },
  {
   "cell_type": "code",
   "execution_count": 308,
   "id": "67b1370f-bad5-4d22-8e4f-00043e711319",
   "metadata": {},
   "outputs": [
    {
     "data": {
      "text/markdown": [
       "Un algorithme est la description d'une suite d'étapes permettant d'obtenir un résultat à partir d'éléments fournis en entrée. Par exemple, une recette de cuisine est un algorithme permettant d'obtenir un plat à partir de ses ingrédients! Dans le monde de plus en plus numérique dans lequel nous…"
      ],
      "text/plain": [
       "<IPython.core.display.Markdown object>"
      ]
     },
     "metadata": {},
     "output_type": "display_data"
    },
    {
     "data": {
      "text/markdown": [
       "[Algorithme ](https://www.cnil.fr//fr/definition/algorithme)"
      ],
      "text/plain": [
       "<IPython.core.display.Markdown object>"
      ]
     },
     "metadata": {},
     "output_type": "display_data"
    }
   ],
   "source": [
    "# |exporti\n",
    "def filter_cb(x):\n",
    "    if x[\"title\"] == selected_entry:\n",
    "        return True\n",
    "    else: \n",
    "        return False\n",
    "                \n",
    "if isLen and selected_entry is not None:\n",
    "    selected_word = list(filter(filter_cb, alphabet_obj[selected_letter]))\n",
    "    st.markdown(selected_word[0][\"definition\"])\n",
    "    link = \"https://www.cnil.fr/\"+ selected_word[0][\"link\"]\n",
    "    st.markdown(f\"[{selected_entry}](%s)\" % link)"
   ]
  },
  {
   "cell_type": "markdown",
   "id": "d69c27d7-518a-4f8b-ae98-c9dbd6ab7c74",
   "metadata": {},
   "source": [
    "This cell appears to be exporting the Jupyter notebook as a Python module or script using nbdev. The nb_export function is used to convert the notebook into a Python file named \"app.py\" in the specified directory. The cell also includes code to list the directory contents and remove a file named 'example.py', which might be part of the project's housekeeping or setup process."
   ]
  },
  {
   "cell_type": "code",
   "execution_count": 309,
   "id": "32695a7d-3131-485a-865a-b30bb8e328d1",
   "metadata": {},
   "outputs": [
    {
     "ename": "FileNotFoundError",
     "evalue": "[Errno 2] No such file or directory: 'example.py'",
     "output_type": "error",
     "traceback": [
      "\u001b[0;31m---------------------------------------------------------------------------\u001b[0m",
      "\u001b[0;31mFileNotFoundError\u001b[0m                         Traceback (most recent call last)",
      "Cell \u001b[0;32mIn[309], line 4\u001b[0m\n\u001b[1;32m      2\u001b[0m \u001b[38;5;28;01mimport\u001b[39;00m \u001b[38;5;21;01mos\u001b[39;00m\n\u001b[1;32m      3\u001b[0m os\u001b[38;5;241m.\u001b[39mlistdir()\n\u001b[0;32m----> 4\u001b[0m \u001b[43mos\u001b[49m\u001b[38;5;241;43m.\u001b[39;49m\u001b[43mremove\u001b[49m\u001b[43m(\u001b[49m\u001b[38;5;124;43m'\u001b[39;49m\u001b[38;5;124;43mexample.py\u001b[39;49m\u001b[38;5;124;43m'\u001b[39;49m\u001b[43m)\u001b[49m\n\u001b[1;32m      5\u001b[0m nb_export(\u001b[38;5;124m\"\u001b[39m\u001b[38;5;124mai_vocabulary_web_scraping.ipynb\u001b[39m\u001b[38;5;124m\"\u001b[39m, lib_path\u001b[38;5;241m=\u001b[39m\u001b[38;5;124m\"\u001b[39m\u001b[38;5;124m./\u001b[39m\u001b[38;5;124m\"\u001b[39m, name\u001b[38;5;241m=\u001b[39m\u001b[38;5;124m\"\u001b[39m\u001b[38;5;124mapp\u001b[39m\u001b[38;5;124m\"\u001b[39m)\n",
      "\u001b[0;31mFileNotFoundError\u001b[0m: [Errno 2] No such file or directory: 'example.py'"
     ]
    }
   ],
   "source": [
    "from nbdev.export import nb_export\n",
    "import os\n",
    "os.listdir()\n",
    "os.remove('example.py')\n",
    "nb_export(\"ai_vocabulary_web_scraping.ipynb\", lib_path=\"./\", name=\"app\")"
   ]
  },
  {
   "cell_type": "code",
   "execution_count": null,
   "id": "9e484746-4170-4246-98e7-b7e697ec7b20",
   "metadata": {},
   "outputs": [],
   "source": []
  }
 ],
 "metadata": {
  "kernelspec": {
   "display_name": "Python 3 (ipykernel)",
   "language": "python",
   "name": "python3"
  },
  "language_info": {
   "codemirror_mode": {
    "name": "ipython",
    "version": 3
   },
   "file_extension": ".py",
   "mimetype": "text/x-python",
   "name": "python",
   "nbconvert_exporter": "python",
   "pygments_lexer": "ipython3",
   "version": "3.10.13"
  }
 },
 "nbformat": 4,
 "nbformat_minor": 5
}
